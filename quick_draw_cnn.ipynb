{
  "nbformat": 4,
  "nbformat_minor": 0,
  "metadata": {
    "colab": {
      "provenance": [],
      "gpuType": "T4"
    },
    "kernelspec": {
      "name": "python3",
      "display_name": "Python 3"
    },
    "language_info": {
      "name": "python"
    },
    "accelerator": "GPU"
  },
  "cells": [
    {
      "cell_type": "markdown",
      "source": [
        "# QuickDraw CNN Classifier  \n",
        "This project builds a Convolutional Neural Network (CNN) to classify hand-drawn sketches from the Google QuickDraw Dataset. The pipeline includes stroke-to-image conversion, image preprocessing, model training, and evaluation.\n"
      ],
      "metadata": {
        "id": "l4G9DUnyiSPG"
      }
    },
    {
      "cell_type": "code",
      "execution_count": 1,
      "metadata": {
        "id": "UQHw-SFiBS5g"
      },
      "outputs": [],
      "source": [
        "import numpy as np\n",
        "import pandas as pd\n",
        "import matplotlib.pyplot as plt\n",
        "from PIL import Image, ImageDraw"
      ]
    },
    {
      "cell_type": "markdown",
      "source": [
        "## Load Stroke Data\n",
        "---\n",
        "Each `.npz` file contains a list of sketches stored as sequences of strokes. We load them into a dictionary by class name."
      ],
      "metadata": {
        "id": "_2ag-V2nicdq"
      }
    },
    {
      "cell_type": "code",
      "source": [
        "classes = [\n",
        "    \"The Eiffel Tower\", \"The Great Wall of China\", \"The Mona Lisa\", \"aircraft carrier\",\n",
        "    \"airplane\", \"alarm clock\", \"ambulance\", \"angel\", \"ant\",\n",
        "    \"anvil\", \"apple\", \"arm\", \"asparagus\", \"axe\", \"backpack\"\n",
        "]\n",
        "\n",
        "data_dict = {}\n",
        "\n",
        "for cls in classes:\n",
        "    filename = f\"{cls}.full.npz\"\n",
        "    try:\n",
        "        data = np.load(filename, allow_pickle=True, encoding='latin1')\n",
        "        data_dict[cls] = data\n",
        "        print(f\"Loaded: {cls}\")\n",
        "    except Exception as e:\n",
        "        print(f\"Error loading {cls}: {e}\")"
      ],
      "metadata": {
        "colab": {
          "base_uri": "https://localhost:8080/"
        },
        "id": "T7jQ9tDeDCGg",
        "outputId": "4af96d6c-f98e-4d2c-d9a8-526922679c8a"
      },
      "execution_count": 2,
      "outputs": [
        {
          "output_type": "stream",
          "name": "stdout",
          "text": [
            "Loaded: The Eiffel Tower\n",
            "Loaded: The Great Wall of China\n",
            "Loaded: The Mona Lisa\n",
            "Loaded: aircraft carrier\n",
            "Loaded: airplane\n",
            "Loaded: alarm clock\n",
            "Loaded: ambulance\n",
            "Loaded: angel\n",
            "Loaded: ant\n",
            "Loaded: anvil\n",
            "Loaded: apple\n",
            "Loaded: arm\n",
            "Loaded: asparagus\n",
            "Loaded: axe\n",
            "Loaded: backpack\n"
          ]
        }
      ]
    },
    {
      "cell_type": "markdown",
      "source": [
        "## Convert Vector Strokes to Images  \n",
        "---\n",
        "The raw stroke data is a list of `(dx, dy, pen_state)` triplets. We use Pillow to convert these into grayscale image arrays suitable for CNN input."
      ],
      "metadata": {
        "id": "I1x93nPfipFh"
      }
    },
    {
      "cell_type": "code",
      "source": [
        "def strokes_img_conv(stroke_data, canvas_size=128, scale=2, linewidth=2, padding=10):\n",
        "  img = Image.new(\"L\", size=(canvas_size, canvas_size), color=255)\n",
        "  draw = ImageDraw.Draw(img)\n",
        "\n",
        "  abs_coord = []\n",
        "  x, y = 0, 0\n",
        "\n",
        "  for dx, dy, pen_status in stroke_data:\n",
        "    x += dx\n",
        "    y += dy\n",
        "    abs_coord.append((x, y, pen_status))\n",
        "\n",
        "  xs = [pt[0] for pt in abs_coord]\n",
        "  ys = [pt[1] for pt in abs_coord]\n",
        "\n",
        "  # print(xs, ys)\n",
        "  min_x, max_x = min(xs), max(xs)\n",
        "  min_y, max_y = min(ys), max(ys)\n",
        "\n",
        "  width = max_x - min_x\n",
        "  height = max_y - min_y\n",
        "  scale = (canvas_size - 2 * padding) / max(width, height)\n",
        "\n",
        "  img = Image.new(\"L\", size=(canvas_size, canvas_size), color=255)\n",
        "  draw = ImageDraw.Draw(img)\n",
        "\n",
        "  prev_x, prev_y = None, None\n",
        "\n",
        "  for x, y, pen_status in abs_coord:\n",
        "    norm_x = (x - min_x) * scale + padding\n",
        "    norm_y = (y - min_y) * scale + padding\n",
        "\n",
        "    if pen_status == 0 and prev_x is not None:\n",
        "      draw.line([prev_x, prev_y, norm_x, norm_y], fill=0, width=linewidth)\n",
        "\n",
        "    prev_x, prev_y = norm_x, norm_y\n",
        "\n",
        "  return np.array(img)/255.0"
      ],
      "metadata": {
        "id": "8p9MBAyDO_G9"
      },
      "execution_count": 3,
      "outputs": []
    },
    {
      "cell_type": "markdown",
      "source": [
        "## Build Full Dataset\n",
        "---\n",
        "We loop through each class, convert all stroke samples into image arrays, and assign corresponding class labels."
      ],
      "metadata": {
        "id": "8JSBSEXLiyDi"
      }
    },
    {
      "cell_type": "code",
      "source": [
        "X = []\n",
        "y = []\n",
        "\n",
        "for class_idx, class_name in enumerate(classes):\n",
        "  print(f\"Converting: {class_name}\")\n",
        "\n",
        "  try:\n",
        "    samples = data_dict[class_name]['train'][:1000]\n",
        "\n",
        "    for stroke in samples:\n",
        "      img = strokes_img_conv(stroke, canvas_size=128, padding=10)\n",
        "      img = img.astype(np.float32)[..., np.newaxis]  # (H, W, 1)\n",
        "      X.append(img)\n",
        "      y.append(class_idx)\n",
        "\n",
        "  except Exception as e:\n",
        "      print(f\"Error in {class_name}: {e}\")\n"
      ],
      "metadata": {
        "colab": {
          "base_uri": "https://localhost:8080/"
        },
        "id": "HitMOI2wB9uB",
        "outputId": "f912932d-a522-415f-8e03-3458b9fa861b"
      },
      "execution_count": 4,
      "outputs": [
        {
          "output_type": "stream",
          "name": "stdout",
          "text": [
            "Converting: The Eiffel Tower\n",
            "Converting: The Great Wall of China\n",
            "Converting: The Mona Lisa\n",
            "Converting: aircraft carrier\n",
            "Converting: airplane\n",
            "Converting: alarm clock\n",
            "Converting: ambulance\n",
            "Converting: angel\n",
            "Converting: ant\n",
            "Converting: anvil\n",
            "Converting: apple\n",
            "Converting: arm\n",
            "Converting: asparagus\n",
            "Converting: axe\n",
            "Converting: backpack\n"
          ]
        }
      ]
    },
    {
      "cell_type": "code",
      "source": [
        "x = np.stack(X)\n",
        "y = np.array(y)\n",
        "\n",
        "print(\"Done.\")\n",
        "print(\"X shape:\", x.shape)  # (total_samples, 128, 128, 1)\n",
        "print(\"y shape:\", y.shape)  # (total_samples,)\n"
      ],
      "metadata": {
        "id": "_0U0pjmFGKU-",
        "colab": {
          "base_uri": "https://localhost:8080/"
        },
        "outputId": "3e0b540e-5cab-42c6-bf4e-0ec131cf1c13"
      },
      "execution_count": 5,
      "outputs": [
        {
          "output_type": "stream",
          "name": "stdout",
          "text": [
            "Done.\n",
            "X shape: (15000, 128, 128, 1)\n",
            "y shape: (15000,)\n"
          ]
        }
      ]
    },
    {
      "cell_type": "code",
      "source": [
        "from sklearn.model_selection import train_test_split"
      ],
      "metadata": {
        "id": "W0c2mb5UO2pg"
      },
      "execution_count": 6,
      "outputs": []
    },
    {
      "cell_type": "markdown",
      "source": [
        "## Train Test split\n",
        "---\n",
        "We split the dataset into training and testing sets using `train_test_split` with stratified sampling to preserve class distribution."
      ],
      "metadata": {
        "id": "mc-YP-hii7Ls"
      }
    },
    {
      "cell_type": "code",
      "source": [
        "x_train, x_test, y_train, y_test = train_test_split(\n",
        "    x, y, test_size=0.15, stratify=y, random_state=42\n",
        "    )"
      ],
      "metadata": {
        "id": "TFc7A4MvO7fM"
      },
      "execution_count": 7,
      "outputs": []
    },
    {
      "cell_type": "code",
      "source": [
        "import torch\n",
        "from torch.utils.data import TensorDataset, DataLoader"
      ],
      "metadata": {
        "id": "iLeVAfmHSjBC"
      },
      "execution_count": 8,
      "outputs": []
    },
    {
      "cell_type": "code",
      "source": [
        "print(x_train.shape)\n",
        "y_train.shape"
      ],
      "metadata": {
        "id": "oNTxvDxfS2yP",
        "colab": {
          "base_uri": "https://localhost:8080/"
        },
        "outputId": "2ac0c676-9b2c-4ebc-fafe-75f86693f0f0"
      },
      "execution_count": 9,
      "outputs": [
        {
          "output_type": "stream",
          "name": "stdout",
          "text": [
            "(12750, 128, 128, 1)\n"
          ]
        },
        {
          "output_type": "execute_result",
          "data": {
            "text/plain": [
              "(12750,)"
            ]
          },
          "metadata": {},
          "execution_count": 9
        }
      ]
    },
    {
      "cell_type": "markdown",
      "source": [
        "## Convert Data to Tensors\n",
        "---\n",
        "CNNs in PyTorch expect input of shape `[batch, channels, height, width]`. We format the data accordingly and convert labels into torch tensors."
      ],
      "metadata": {
        "id": "TVjBjAjujDUD"
      }
    },
    {
      "cell_type": "code",
      "source": [
        "x_train_tensor = torch.tensor(x_train, dtype=torch.float32).permute(0,3,1,2)\n",
        "x_test_tensor = torch.tensor(x_test, dtype=torch.float32).permute(0,3,1,2)\n",
        "\n",
        "y_train_tensor = torch.tensor(y_train, dtype=torch.long)\n",
        "y_test_tensor = torch.tensor(y_test, dtype=torch.long)"
      ],
      "metadata": {
        "id": "V9PuILl2WDPc"
      },
      "execution_count": 10,
      "outputs": []
    },
    {
      "cell_type": "code",
      "source": [
        "from torch.utils.data import TensorDataset, DataLoader\n",
        "\n",
        "train_dataset = TensorDataset(x_train_tensor, y_train_tensor)\n",
        "test_dataset = TensorDataset(x_test_tensor, y_test_tensor)\n",
        "\n",
        "train_loader = DataLoader(train_dataset, batch_size=64, shuffle=True)\n",
        "test_loader = DataLoader(test_dataset, batch_size=64, shuffle=False)"
      ],
      "metadata": {
        "id": "sZZYla3DY9oX"
      },
      "execution_count": 11,
      "outputs": []
    },
    {
      "cell_type": "code",
      "source": [
        "import torch.nn as nn\n",
        "import torch.nn.functional as F"
      ],
      "metadata": {
        "id": "LcKMGxsYZM7i"
      },
      "execution_count": 12,
      "outputs": []
    },
    {
      "cell_type": "code",
      "source": [
        "device = torch.device(\"cuda\" if torch.cuda.is_available() else \"cpu\")\n",
        "print(device)"
      ],
      "metadata": {
        "colab": {
          "base_uri": "https://localhost:8080/"
        },
        "id": "TpIq46fSZuJU",
        "outputId": "bb261bba-b56a-4102-87cd-dfa6c342cc18"
      },
      "execution_count": 13,
      "outputs": [
        {
          "output_type": "stream",
          "name": "stdout",
          "text": [
            "cuda\n"
          ]
        }
      ]
    },
    {
      "cell_type": "markdown",
      "source": [
        "## Build the CNN\n",
        "---\n",
        "We define a simple CNN architecture with three convolutional layers, batch normalization, dropout, and fully connected layers.\n"
      ],
      "metadata": {
        "id": "U_Ejvy2WjQH6"
      }
    },
    {
      "cell_type": "code",
      "source": [
        "class CNN(nn.Module):\n",
        "  def __init__(self, num_classes=15):\n",
        "    super(CNN, self).__init__()\n",
        "\n",
        "    self.l1=nn.Conv2d(1, 32, kernel_size=3, padding=1)\n",
        "    self.b1=nn.BatchNorm2d(32)\n",
        "\n",
        "    self.l2=nn.Conv2d(32, 64, kernel_size=3, padding=1)\n",
        "    self.b2=nn.BatchNorm2d(64)\n",
        "\n",
        "    self.l3=nn.Conv2d(64, 128, kernel_size=3, padding=1)\n",
        "    self.b3=nn.BatchNorm2d(128)\n",
        "\n",
        "    self.pool=nn.MaxPool2d(2, 2)\n",
        "    self.dropout=nn.Dropout(0.3)\n",
        "\n",
        "    self.fc1=nn.Linear(128 * 16 * 16, 256)\n",
        "    self.fc2=nn.Linear(256, num_classes)\n",
        "\n",
        "  def forward(self, x):\n",
        "    x = self.pool(F.relu(self.b1(self.l1(x))))\n",
        "    x = self.pool(F.relu(self.b2(self.l2(x))))\n",
        "    x = self.pool(F.relu(self.b3(self.l3(x))))\n",
        "\n",
        "    x = x.view(x.size(0), -1)\n",
        "    x = self.dropout(F.relu(self.fc1(x)))\n",
        "    x = self.fc2(x)\n",
        "    return x"
      ],
      "metadata": {
        "id": "1RjciHzdZcCs"
      },
      "execution_count": 28,
      "outputs": []
    },
    {
      "cell_type": "code",
      "source": [
        "import torch.optim as optim"
      ],
      "metadata": {
        "id": "vGvoV619c6rb"
      },
      "execution_count": 20,
      "outputs": []
    },
    {
      "cell_type": "markdown",
      "source": [
        "## Train the CNN\n",
        "---\n",
        "We train the model using cross-entropy loss and the Adam optimizer. Accuracy is monitored after each epoch."
      ],
      "metadata": {
        "id": "738w7sGIjeNI"
      }
    },
    {
      "cell_type": "code",
      "source": [
        "model = CNN(num_classes=15).to(device)\n",
        "\n",
        "criterion = nn.CrossEntropyLoss()\n",
        "optimizer = optim.Adam(model.parameters(), lr=1e-3)"
      ],
      "metadata": {
        "id": "f2p8OeygcsW5"
      },
      "execution_count": 29,
      "outputs": []
    },
    {
      "cell_type": "code",
      "source": [
        "def train_one_epoch(model, loader, optimizer, criterion, device):\n",
        "  model.train()\n",
        "  running_loss = 0.0\n",
        "\n",
        "  for inputs, labels in loader:\n",
        "    inputs, labels = inputs.to(device), labels.to(device)\n",
        "\n",
        "    optimizer.zero_grad()\n",
        "    outputs = model(inputs)\n",
        "    loss = criterion(outputs, labels)\n",
        "    loss.backward()\n",
        "    optimizer.step()\n",
        "\n",
        "    running_loss += loss.item()\n",
        "\n",
        "  return running_loss / len(loader)\n",
        "\n",
        "def evaluate(model, loader, device):\n",
        "  model.eval()\n",
        "  correct = total = 0\n",
        "\n",
        "  with torch.no_grad():\n",
        "    for inputs, labels in loader:\n",
        "      inputs, labels = inputs.to(device), labels.to(device)\n",
        "      outputs = model(inputs)\n",
        "      _, preds = torch.max(outputs, 1)\n",
        "      correct += (preds == labels).sum().item()\n",
        "      total += labels.size(0)\n",
        "\n",
        "  return 100 * correct / total\n"
      ],
      "metadata": {
        "id": "7lPJNxgadSSj"
      },
      "execution_count": 30,
      "outputs": []
    },
    {
      "cell_type": "code",
      "source": [
        "epochs = 20\n",
        "\n",
        "for epoch in range(epochs):\n",
        "  train_loss = train_one_epoch(model, train_loader, optimizer, criterion, device)\n",
        "  test_accuracy = evaluate(model, test_loader, device)\n",
        "\n",
        "  print(f\"Epoch {epoch+1}/{epochs} | Loss: {train_loss:.4f} | Test Accuracy: {test_accuracy:.2f}%\")"
      ],
      "metadata": {
        "colab": {
          "base_uri": "https://localhost:8080/"
        },
        "id": "DCcmO9aneCE6",
        "outputId": "d3bdd4b1-5a6a-476f-b722-45cd9f255408"
      },
      "execution_count": 32,
      "outputs": [
        {
          "output_type": "stream",
          "name": "stdout",
          "text": [
            "Epoch 1/20 | Loss: 0.5266 | Test Accuracy: 79.69%\n",
            "Epoch 2/20 | Loss: 0.4929 | Test Accuracy: 79.42%\n",
            "Epoch 3/20 | Loss: 0.4557 | Test Accuracy: 79.82%\n",
            "Epoch 4/20 | Loss: 0.4165 | Test Accuracy: 79.42%\n",
            "Epoch 5/20 | Loss: 0.3837 | Test Accuracy: 79.60%\n",
            "Epoch 6/20 | Loss: 0.3646 | Test Accuracy: 78.76%\n",
            "Epoch 7/20 | Loss: 0.3647 | Test Accuracy: 80.53%\n",
            "Epoch 8/20 | Loss: 0.3103 | Test Accuracy: 80.71%\n",
            "Epoch 9/20 | Loss: 0.3049 | Test Accuracy: 81.07%\n",
            "Epoch 10/20 | Loss: 0.2738 | Test Accuracy: 80.67%\n",
            "Epoch 11/20 | Loss: 0.2725 | Test Accuracy: 80.31%\n",
            "Epoch 12/20 | Loss: 0.2381 | Test Accuracy: 80.40%\n",
            "Epoch 13/20 | Loss: 0.2303 | Test Accuracy: 80.98%\n",
            "Epoch 14/20 | Loss: 0.2252 | Test Accuracy: 81.07%\n",
            "Epoch 15/20 | Loss: 0.2171 | Test Accuracy: 80.71%\n",
            "Epoch 16/20 | Loss: 0.2092 | Test Accuracy: 80.76%\n",
            "Epoch 17/20 | Loss: 0.2081 | Test Accuracy: 80.09%\n",
            "Epoch 18/20 | Loss: 0.1939 | Test Accuracy: 81.29%\n",
            "Epoch 19/20 | Loss: 0.1908 | Test Accuracy: 80.89%\n",
            "Epoch 20/20 | Loss: 0.1810 | Test Accuracy: 81.51%\n"
          ]
        }
      ]
    },
    {
      "cell_type": "markdown",
      "source": [
        "## Model Evaluation\n",
        "---\n",
        "After training, we evaluate the model’s performance on the test set to check generalization."
      ],
      "metadata": {
        "id": "YDEYb-8ajofA"
      }
    },
    {
      "cell_type": "code",
      "source": [
        "model.eval()\n",
        "correct = 0\n",
        "total = 0\n",
        "\n",
        "with torch.no_grad():\n",
        "  for inputs, labels in test_loader:\n",
        "    inputs, labels = inputs.to(device), labels.to(device)\n",
        "    outputs = model(inputs)\n",
        "    _, predicted = torch.max(outputs, 1)\n",
        "\n",
        "    total += labels.size(0)\n",
        "    correct += (predicted == labels).sum().item()\n",
        "\n",
        "test_accuracy = 100 * correct / total\n",
        "print(f\"Test Accuracy: {test_accuracy:.2f}%\")"
      ],
      "metadata": {
        "colab": {
          "base_uri": "https://localhost:8080/"
        },
        "id": "gfAEtMScgHM1",
        "outputId": "ee2c9fd4-81f5-49fc-8903-502f9a7318fc"
      },
      "execution_count": 33,
      "outputs": [
        {
          "output_type": "stream",
          "name": "stdout",
          "text": [
            "Test Accuracy: 81.51%\n"
          ]
        }
      ]
    },
    {
      "cell_type": "markdown",
      "source": [
        "## Manual Testing and Visualization\n",
        "---\n",
        "We manually pass individual test samples through the model to visualize predictions and understand model behavior."
      ],
      "metadata": {
        "id": "bwiafk-mj3-V"
      }
    },
    {
      "cell_type": "code",
      "source": [
        "index = 1\n",
        "sample_img = x_test_tensor[index].unsqueeze(0).to(device)\n",
        "\n",
        "true_label = y_test_tensor[index].item()\n",
        "\n",
        "model.eval()\n",
        "\n",
        "with torch.no_grad():\n",
        "    output = model(sample_img)\n",
        "    predicted_label = torch.argmax(output, dim=1).item()"
      ],
      "metadata": {
        "id": "wm0p2IxqhEvd"
      },
      "execution_count": 44,
      "outputs": []
    },
    {
      "cell_type": "code",
      "source": [
        "import matplotlib.pyplot as plt\n",
        "\n",
        "plt.imshow(sample_img.squeeze().cpu(), cmap=\"gray\")\n",
        "plt.title(f\"Predicted: {classes[predicted_label]} | Actual: {classes[true_label]}\")\n",
        "plt.axis(\"off\")\n",
        "plt.show()"
      ],
      "metadata": {
        "colab": {
          "base_uri": "https://localhost:8080/",
          "height": 428
        },
        "id": "ga35fqNfhQc3",
        "outputId": "65ce552a-0595-4481-d30d-380f40168643"
      },
      "execution_count": 45,
      "outputs": [
        {
          "output_type": "display_data",
          "data": {
            "text/plain": [
              "<Figure size 640x480 with 1 Axes>"
            ],
            "image/png": "[encoded data removed]"
          },
          "metadata": {}
        }
      ]
    }
  ]
}